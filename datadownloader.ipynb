{
 "cells": [
  {
   "cell_type": "code",
   "execution_count": 5,
   "metadata": {},
   "outputs": [],
   "source": [
    "import requests\n",
    "import time\n",
    "from tqdm import tqdm\n",
    "import json\n",
    "\n",
    "API_KEY = 'RGAPI-1a1d24de-0002-4894-85cc-6deaf6ec560e'\n",
    "DIVISION = ['I' , 'II' , 'III' , 'IV']\n",
    "PAGE_NUM = range(50)\n",
    "\n",
    "def getPuuid(summonerId):\n",
    "    return requests.get(f'https://kr.api.riotgames.com/lol/summoner/v4/summoners/{summonerId}?api_key={API_KEY}').json()[\"puuid\"]\n",
    "        \n",
    "def getSummonerId(puuid):\n",
    "    return requests.get(f'https://kr.api.riotgames.com/lol/summoner/v4/summoners/by-puuid/{puuid}?api_key={API_KEY}').json()['id']\n",
    "    \n",
    "def getMatchIds(puuid):\n",
    "    return requests.get(f'https://asia.api.riotgames.com/lol/match/v5/matches/by-puuid/{puuid}/ids?start=0&count=100&api_key={API_KEY}').json()\n",
    "\n",
    "def getMatchData(matchId):\n",
    "    return requests.get(f\"https://asia.api.riotgames.com/lol/match/v5/matches/{matchId}/timeline?api_key={API_KEY}\").json()\n",
    "      \n",
    "def getLeague(rank , division = None , page_num = None):    # rank == {'challenger' , 'grandmaster' , 'master' , 'diamond' , 'platinum' , 'gold' , 'silver' , 'bronze' , 'iron'}  \\\\  DIVISION = ['I' , 'II' , 'III' , 'IV']    \\\\    PAGE_NUM = range(50)\n",
    "\n",
    "    if rank in ['challenger' , 'grandmaster' , 'master']:   # 마스터 이상의 경우에는 별도의 api 로 호출한다.\n",
    "        return requests.get(f'https://kr.api.riotgames.com/lol/league/v4/{rank}leagues/by-queue/RANKED_SOLO_5x5?api_key={API_KEY}').json()\n",
    "\n",
    "    else:   # 다이아 이하 랭크\n",
    "        return requests.get(f'https://kr.api.riotgames.com/lol/league/v4/entries/RANKED_SOLO_5x5/{rank.upper()}/{division}?page={page_num}&api_key={API_KEY}').json()\n",
    "\n",
    "def saveJson(data , matchid , division = '' , page_num = ''):\n",
    "    with open(f'{matchid}_{division}_{page_num}.json', 'w') as f:\n",
    "        json.dump(data, f)\n"
   ]
  },
  {
   "attachments": {},
   "cell_type": "markdown",
   "metadata": {},
   "source": [
    "#### MASTER LEAGUE 이상 (!! 얘는 패스)"
   ]
  },
  {
   "cell_type": "code",
   "execution_count": 3,
   "metadata": {},
   "outputs": [
    {
     "name": "stderr",
     "output_type": "stream",
     "text": [
      " 16%|█▌        | 1819/11464 [26:16:38<138:01:57, 51.52s/it]"
     ]
    }
   ],
   "source": [
    "#### 각 랭크별 경기 데이터 수집.\n",
    "\n",
    "# 수집할 랭크들\n",
    "ranks = ['challenger' , 'grandmaster' , 'master'] \n",
    "\n",
    "for rank in ranks:\n",
    "\n",
    "    leagueData = getLeague(rank)\n",
    "    saveJson(leagueData, rank) # 당시 league 내의 유저들 정보 저장\n",
    "\n",
    "    entries = getLeague(rank)['entries']\n",
    "    for entry in tqdm(entries):\n",
    "        try:\n",
    "            matchIds = getMatchIds(getPuuid(entry['summonerId']))\n",
    "            for matchId in matchIds:\n",
    "                matchData = getMatchData(matchId)\n",
    "                saveJson(matchData, matchId)\n",
    "        except:\n",
    "            pass"
   ]
  },
  {
   "attachments": {},
   "cell_type": "markdown",
   "metadata": {},
   "source": [
    "#### MASTER LEAGUE 미만 (!! 얘를 실행하세요.)"
   ]
  },
  {
   "cell_type": "code",
   "execution_count": null,
   "metadata": {},
   "outputs": [],
   "source": [
    "#### 각 랭크별 경기 데이터 수집.\n",
    "\n",
    "# 수집할 랭크들\n",
    "ranks = ['diamond' , 'platinum' , 'gold' , 'silver' , 'bronze' , 'iron'] \n",
    "\n",
    "for rank in ranks:\n",
    "\n",
    "    leagueData = getLeague(rank)\n",
    "    saveJson(leagueData, rank) # 당시 league 내의 유저들 정보 저장\n",
    "\n",
    "    for div in DIVISION:\n",
    "        for page_n in PAGE_NUM:\n",
    "            entries = getLeague(rank , division = div , page_num = page_n)\n",
    "            for entry in tqdm(entries):\n",
    "                try:\n",
    "                    matchIds = getMatchIds(getPuuid(entry['summonerId']))\n",
    "                    for matchId in matchIds:\n",
    "                        matchData = getMatchData(matchId)\n",
    "                        saveJson(matchData, matchid = matchId , division = div , page_num = page_n)\n",
    "                except:\n",
    "                    pass"
   ]
  }
 ],
 "metadata": {
  "kernelspec": {
   "display_name": "lolpago",
   "language": "python",
   "name": "python3"
  },
  "language_info": {
   "codemirror_mode": {
    "name": "ipython",
    "version": 3
   },
   "file_extension": ".py",
   "mimetype": "text/x-python",
   "name": "python",
   "nbconvert_exporter": "python",
   "pygments_lexer": "ipython3",
   "version": "3.9.11"
  },
  "orig_nbformat": 4
 },
 "nbformat": 4,
 "nbformat_minor": 2
}
