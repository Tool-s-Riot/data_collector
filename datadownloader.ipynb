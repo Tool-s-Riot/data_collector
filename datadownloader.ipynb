{
 "cells": [
  {
   "cell_type": "code",
   "execution_count": 27,
   "metadata": {},
   "outputs": [],
   "source": [
    "import requests\n",
    "import time\n",
    "from tqdm import tqdm\n",
    "import json\n",
    "\n",
    "API_KEY = 'RGAPI-1a1d24de-0002-4894-85cc-6deaf6ec560e'\n",
    "\n",
    "\n",
    "def getPuuid(summonerId):\n",
    "    return requests.get(f'https://kr.api.riotgames.com/lol/summoner/v4/summoners/{summonerId}?api_key={API_KEY}').json()[\"puuid\"]\n",
    "        \n",
    "def getSummonerId(puuid):\n",
    "    return requests.get(f'https://kr.api.riotgames.com/lol/summoner/v4/summoners/by-puuid/{puuid}?api_key={API_KEY}').json()['id']\n",
    "    \n",
    "def getMatchIds(puuid):\n",
    "    return requests.get(f'https://asia.api.riotgames.com/lol/match/v5/matches/by-puuid/{puuid}/ids?start=0&count=100&api_key={API_KEY}').json()\n",
    "\n",
    "def getMatchData(matchId):\n",
    "    return requests.get(f\"https://asia.api.riotgames.com/lol/match/v5/matches/{matchId}/timeline?api_key={API_KEY}\").json()\n",
    "      \n",
    "def getLeague(rank):    # rank == {'challenger' , 'grandmaster' , 'master'}\n",
    "    return requests.get(f'https://kr.api.riotgames.com/lol/league/v4/{rank}leagues/by-queue/RANKED_SOLO_5x5?api_key={API_KEY}').json()\n",
    "\n",
    "def saveJson(data, filename):\n",
    "    with open(f'{filename}.json', 'w') as f:\n",
    "        json.dump(data, f)\n"
   ]
  },
  {
   "cell_type": "code",
   "execution_count": null,
   "metadata": {},
   "outputs": [],
   "source": [
    "#### 각 랭크별 경기 데이터 수집.\n",
    "\n",
    "# 수집할 랭크들\n",
    "ranks = ['challenger' , 'grandmaster' , 'master'] \n",
    "\n",
    "for rank in ranks:\n",
    "\n",
    "    leagueData = getLeague(rank)\n",
    "    saveJson(leagueData, rank) # 당시 league 내의 유저들 정보 저장\n",
    "\n",
    "    entries = getLeague(rank)['entries']\n",
    "    for entry in entries:\n",
    "        matchIds = getMatchIds(getPuuid(entry['summonerId']))\n",
    "        for matchId in matchIds:\n",
    "            matchData = getMatchData(matchId)\n",
    "            saveJson(matchData, matchId)"
   ]
  },
  {
   "cell_type": "code",
   "execution_count": 22,
   "metadata": {},
   "outputs": [
    {
     "name": "stdout",
     "output_type": "stream",
     "text": [
      "c58j_CNFUjMIL0rapUfty0JNMvkoutAPVquuV1dLsTqdgcWCuhKh4FnGjw\n"
     ]
    }
   ],
   "source": [
    "entries = getLeague('challenger')['entries']\n",
    "for entry in entries[:1]:\n",
    "    print(entry['summonerId'])"
   ]
  },
  {
   "cell_type": "code",
   "execution_count": 23,
   "metadata": {},
   "outputs": [
    {
     "data": {
      "text/plain": [
       "'kCa5YFiNBdVc2GE1FY_qZfCm-oF1m_t4uMmZQWKst3EvvkiOirqNKysjY12_3ldIo40OLmolsXub9Q'"
      ]
     },
     "execution_count": 23,
     "metadata": {},
     "output_type": "execute_result"
    }
   ],
   "source": [
    "getPuuid('c58j_CNFUjMIL0rapUfty0JNMvkoutAPVquuV1dLsTqdgcWCuhKh4FnGjw')"
   ]
  },
  {
   "cell_type": "code",
   "execution_count": null,
   "metadata": {},
   "outputs": [],
   "source": [
    "getMatchIds('kCa5YFiNBdVc2GE1FY_qZfCm-oF1m_t4uMmZQWKst3EvvkiOirqNKysjY12_3ldIo40OLmolsXub9Q')"
   ]
  },
  {
   "cell_type": "code",
   "execution_count": 17,
   "metadata": {},
   "outputs": [],
   "source": [
    "import json\n",
    "\n",
    "data = getLeague('challenger')\n",
    "\n",
    "with open('data.json', 'w') as f:\n",
    "    json.dump(data, f)"
   ]
  },
  {
   "cell_type": "code",
   "execution_count": 10,
   "metadata": {},
   "outputs": [
    {
     "ename": "AttributeError",
     "evalue": "'dict' object has no attribute 'entries'",
     "output_type": "error",
     "traceback": [
      "\u001b[1;31m---------------------------------------------------------------------------\u001b[0m",
      "\u001b[1;31mAttributeError\u001b[0m                            Traceback (most recent call last)",
      "Cell \u001b[1;32mIn[10], line 8\u001b[0m\n\u001b[0;32m      5\u001b[0m     data \u001b[39m=\u001b[39m json\u001b[39m.\u001b[39mload(f)\n\u001b[0;32m      7\u001b[0m \u001b[39m# Now you can access your data\u001b[39;00m\n\u001b[1;32m----> 8\u001b[0m \u001b[39mprint\u001b[39m(data\u001b[39m.\u001b[39;49mentries)\n",
      "\u001b[1;31mAttributeError\u001b[0m: 'dict' object has no attribute 'entries'"
     ]
    }
   ],
   "source": [
    "import json\n",
    "\n",
    "# Open the file for reading\n",
    "with open('data.json', 'r') as f:\n",
    "    data = json.load(f)\n",
    "\n",
    "# Now you can access your data\n",
    "print(dat)"
   ]
  }
 ],
 "metadata": {
  "kernelspec": {
   "display_name": "lolpago",
   "language": "python",
   "name": "python3"
  },
  "language_info": {
   "codemirror_mode": {
    "name": "ipython",
    "version": 3
   },
   "file_extension": ".py",
   "mimetype": "text/x-python",
   "name": "python",
   "nbconvert_exporter": "python",
   "pygments_lexer": "ipython3",
   "version": "3.9.11"
  },
  "orig_nbformat": 4
 },
 "nbformat": 4,
 "nbformat_minor": 2
}
